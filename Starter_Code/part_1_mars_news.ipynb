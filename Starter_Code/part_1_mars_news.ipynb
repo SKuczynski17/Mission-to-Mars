{
 "cells": [
  {
   "cell_type": "markdown",
   "metadata": {},
   "source": [
    "# Module 12 Challenge\n",
    "## Deliverable 1: Scrape Titles and Preview Text from Mars News"
   ]
  },
  {
   "cell_type": "code",
   "execution_count": 18,
   "metadata": {},
   "outputs": [],
   "source": [
    "# Import Splinter and BeautifulSoup\n",
    "from splinter import Browser\n",
    "from bs4 import BeautifulSoup as soup\n",
    "from webdriver_manager.chrome import ChromeDriverManager\n"
   ]
  },
  {
   "cell_type": "code",
   "execution_count": 20,
   "metadata": {
    "scrolled": true
   },
   "outputs": [],
   "source": [
    "executable_path = {'executable_path': ChromeDriverManager().install()}\n",
    "browser = Browser('chrome', **executable_path, headless=False)"
   ]
  },
  {
   "cell_type": "markdown",
   "metadata": {},
   "source": [
    "### Step 1: Visit the Website\n",
    "\n",
    "1. Use automated browsing to visit the [Mars NASA news site](https://redplanetscience.com). Inspect the page to identify which elements to scrape.\n",
    "\n",
    "      > **Hint** To identify which elements to scrape, you might want to inspect the page by using Chrome DevTools."
   ]
  },
  {
   "cell_type": "code",
   "execution_count": 21,
   "metadata": {},
   "outputs": [],
   "source": [
    "# Visit the Mars NASA news site: https://redplanetscience.com\n",
    "url = 'https://redplanetscience.com'\n",
    "browser.visit(url)"
   ]
  },
  {
   "cell_type": "markdown",
   "metadata": {},
   "source": [
    "### Step 2: Scrape the Website\n",
    "\n",
    "Create a Beautiful Soup object and use it to extract text elements from the website."
   ]
  },
  {
   "cell_type": "code",
   "execution_count": 37,
   "metadata": {},
   "outputs": [],
   "source": [
    "# Create a Beautiful Soup object\n",
    "html = browser.html\n",
    "html_soup = soup(html, 'html.parser')"
   ]
  },
  {
   "cell_type": "code",
   "execution_count": 45,
   "metadata": {},
   "outputs": [],
   "source": [
    "# Extract all the text elements\n",
    "title_elem = html_soup.find_all('div','content_title')\n",
    "preview_elem = html_soup.find_all('div', 'article_teaser_body')"
   ]
  },
  {
   "cell_type": "markdown",
   "metadata": {},
   "source": [
    "### Step 3: Store the Results\n",
    "\n",
    "Extract the titles and preview text of the news articles that you scraped. Store the scraping results in Python data structures as follows:\n",
    "\n",
    "* Store each title-and-preview pair in a Python dictionary. And, give each dictionary two keys: `title` and `preview`. An example is the following:\n",
    "\n",
    "  ```python\n",
    "  {'title': \"Mars Rover Begins Mission!\", \n",
    "        'preview': \"NASA's Mars Rover begins a multiyear mission to collect data about the little-explored planet.\"}\n",
    "  ```\n",
    "\n",
    "* Store all the dictionaries in a Python list.\n",
    "\n",
    "* Print the list in your notebook."
   ]
  },
  {
   "cell_type": "code",
   "execution_count": 46,
   "metadata": {},
   "outputs": [],
   "source": [
    "# Create an empty list to store the dictionaries\n",
    "mars_news = []"
   ]
  },
  {
   "cell_type": "code",
   "execution_count": 50,
   "metadata": {},
   "outputs": [],
   "source": [
    "# Loop through the text elements\n",
    "for search_title, search_preview in zip(title_elem, preview_elem):\n",
    "\n",
    "# Extract the title and preview text from the element\n",
    "    titles = search_title.get_text()\n",
    "    previews = search_preview.get_text()\n",
    "# Store each title and preview pair in a dictionary\n",
    "    Title_Previews = {\"title\": titles, \"preview\":previews}\n",
    "# Add the dictionary to the list\n",
    "    mars_news.append(Title_Previews)"
   ]
  },
  {
   "cell_type": "code",
   "execution_count": 51,
   "metadata": {},
   "outputs": [
    {
     "data": {
      "text/plain": [
       "[{'title': \"NASA's Mars 2020 Heads Into the Test Chamber\",\n",
       "  'preview': 'In this time-lapse video taken at JPL, engineers move the Mars 2020 rover into a large vacuum chamber for testing in Mars-like environmental conditions.'},\n",
       " {'title': 'NASA Invites Public to Share Excitement of Mars 2020 Perseverance Rover Launch',\n",
       "  'preview': 'There are lots of ways to participate in the historic event, which is targeted for July 30.'},\n",
       " {'title': \"NASA's Mars Reconnaissance Orbiter Undergoes Memory Update\",\n",
       "  'preview': 'Other orbiters will continue relaying data from Mars surface missions for a two-week period.'},\n",
       " {'title': 'Sensors on Mars 2020 Spacecraft Answer Long-Distance Call From Earth',\n",
       "  'preview': \"Instruments tailored to collect data during the descent of NASA's next rover through the Red Planet's atmosphere have been checked in flight.\"},\n",
       " {'title': 'NASA Mars Mission Connects With Bosnian and Herzegovinian Town',\n",
       "  'preview': 'A letter from NASA was presented to the mayor of Jezero, Bosnia-Herzegovina, honoring the connection between the town and Jezero Crater, the Mars 2020 rover landing site.'},\n",
       " {'title': \"A Martian Roundtrip: NASA's Perseverance Rover Sample Tubes\",\n",
       "  'preview': \"Marvels of engineering, the rover's sample tubes must be tough enough to safely bring Red Planet samples on the long journey back to Earth in immaculate condition. \"},\n",
       " {'title': \"Media Get a Close-Up of NASA's Mars 2020 Rover\",\n",
       "  'preview': \"The clean room at NASA's Jet Propulsion Laboratory was open to the media to see NASA's next Mars explorer before it leaves for Florida in preparation for a summertime launch.\"},\n",
       " {'title': \"A Year of Surprising Science From NASA's InSight Mars Mission\",\n",
       "  'preview': \"A batch of new papers summarizes the lander's findings above and below the surface of the Red Planet.\"},\n",
       " {'title': 'NASA to Reveal Name of Its Next Mars Rover',\n",
       "  'preview': \"After a months-long contest among students to name NASA's newest Mars rover, the agency will reveal the winning name — and the winning student — this Thursday. \"},\n",
       " {'title': \"3 Things We've Learned From NASA's Mars InSight \",\n",
       "  'preview': 'Scientists are finding new mysteries since the geophysics mission landed two years ago.'},\n",
       " {'title': 'NASA Prepares for Moon and Mars With New Addition to Its Deep Space Network',\n",
       "  'preview': 'Robotic spacecraft will be able to communicate with the dish using radio waves and lasers.'},\n",
       " {'title': \"NASA Engineers Checking InSight's Weather Sensors\",\n",
       "  'preview': 'An electronics issue is suspected to be preventing the sensors from sharing their data about Mars weather with the spacecraft.'},\n",
       " {'title': \"Robotic Toolkit Added to NASA's Mars 2020 Rover\",\n",
       "  'preview': \"The bit carousel, which lies at the heart of the rover's Sample Caching System, is now aboard NASA's newest rover. \"},\n",
       " {'title': \"Curiosity Mars Rover's Summer Road Trip Has Begun\",\n",
       "  'preview': 'After more than a year in the \"clay-bearing unit,\" Curiosity is making a mile-long journey around some deep sand so that it can explore higher up Mount Sharp.'},\n",
       " {'title': 'AI Is Helping Scientists Discover Fresh Craters on Mars',\n",
       "  'preview': \"It's the first time machine learning has been used to find previously unknown craters on the Red Planet.\"},\n",
       " {'title': \"NASA's Mars 2020 Heads Into the Test Chamber\",\n",
       "  'preview': 'In this time-lapse video taken at JPL, engineers move the Mars 2020 rover into a large vacuum chamber for testing in Mars-like environmental conditions.'},\n",
       " {'title': 'NASA Invites Public to Share Excitement of Mars 2020 Perseverance Rover Launch',\n",
       "  'preview': 'There are lots of ways to participate in the historic event, which is targeted for July 30.'},\n",
       " {'title': \"NASA's Mars Reconnaissance Orbiter Undergoes Memory Update\",\n",
       "  'preview': 'Other orbiters will continue relaying data from Mars surface missions for a two-week period.'},\n",
       " {'title': 'Sensors on Mars 2020 Spacecraft Answer Long-Distance Call From Earth',\n",
       "  'preview': \"Instruments tailored to collect data during the descent of NASA's next rover through the Red Planet's atmosphere have been checked in flight.\"},\n",
       " {'title': 'NASA Mars Mission Connects With Bosnian and Herzegovinian Town',\n",
       "  'preview': 'A letter from NASA was presented to the mayor of Jezero, Bosnia-Herzegovina, honoring the connection between the town and Jezero Crater, the Mars 2020 rover landing site.'},\n",
       " {'title': \"A Martian Roundtrip: NASA's Perseverance Rover Sample Tubes\",\n",
       "  'preview': \"Marvels of engineering, the rover's sample tubes must be tough enough to safely bring Red Planet samples on the long journey back to Earth in immaculate condition. \"},\n",
       " {'title': \"Media Get a Close-Up of NASA's Mars 2020 Rover\",\n",
       "  'preview': \"The clean room at NASA's Jet Propulsion Laboratory was open to the media to see NASA's next Mars explorer before it leaves for Florida in preparation for a summertime launch.\"},\n",
       " {'title': \"A Year of Surprising Science From NASA's InSight Mars Mission\",\n",
       "  'preview': \"A batch of new papers summarizes the lander's findings above and below the surface of the Red Planet.\"},\n",
       " {'title': 'NASA to Reveal Name of Its Next Mars Rover',\n",
       "  'preview': \"After a months-long contest among students to name NASA's newest Mars rover, the agency will reveal the winning name — and the winning student — this Thursday. \"},\n",
       " {'title': \"3 Things We've Learned From NASA's Mars InSight \",\n",
       "  'preview': 'Scientists are finding new mysteries since the geophysics mission landed two years ago.'},\n",
       " {'title': 'NASA Prepares for Moon and Mars With New Addition to Its Deep Space Network',\n",
       "  'preview': 'Robotic spacecraft will be able to communicate with the dish using radio waves and lasers.'},\n",
       " {'title': \"NASA Engineers Checking InSight's Weather Sensors\",\n",
       "  'preview': 'An electronics issue is suspected to be preventing the sensors from sharing their data about Mars weather with the spacecraft.'},\n",
       " {'title': \"Robotic Toolkit Added to NASA's Mars 2020 Rover\",\n",
       "  'preview': \"The bit carousel, which lies at the heart of the rover's Sample Caching System, is now aboard NASA's newest rover. \"},\n",
       " {'title': \"Curiosity Mars Rover's Summer Road Trip Has Begun\",\n",
       "  'preview': 'After more than a year in the \"clay-bearing unit,\" Curiosity is making a mile-long journey around some deep sand so that it can explore higher up Mount Sharp.'},\n",
       " {'title': 'AI Is Helping Scientists Discover Fresh Craters on Mars',\n",
       "  'preview': \"It's the first time machine learning has been used to find previously unknown craters on the Red Planet.\"}]"
      ]
     },
     "execution_count": 51,
     "metadata": {},
     "output_type": "execute_result"
    }
   ],
   "source": [
    "# Print the list to confirm success\n",
    "mars_news"
   ]
  },
  {
   "cell_type": "markdown",
   "metadata": {},
   "source": []
  },
  {
   "cell_type": "code",
   "execution_count": 52,
   "metadata": {},
   "outputs": [],
   "source": [
    "browser.quit()"
   ]
  },
  {
   "cell_type": "markdown",
   "metadata": {},
   "source": [
    "### (Optional) Step 4: Export the Data\n",
    "\n",
    "Optionally, store the scraped data in a file or database (to ease sharing the data with others). To do so, export the scraped data to either a JSON file or a MongoDB database."
   ]
  },
  {
   "cell_type": "code",
   "execution_count": 10,
   "metadata": {},
   "outputs": [],
   "source": [
    "# Export data to JSON\n"
   ]
  },
  {
   "cell_type": "code",
   "execution_count": null,
   "metadata": {},
   "outputs": [],
   "source": [
    "# Export data to MongoDB\n"
   ]
  }
 ],
 "metadata": {
  "kernelspec": {
   "display_name": "PythonData",
   "language": "python",
   "name": "pythondata"
  },
  "language_info": {
   "codemirror_mode": {
    "name": "ipython",
    "version": 3
   },
   "file_extension": ".py",
   "mimetype": "text/x-python",
   "name": "python",
   "nbconvert_exporter": "python",
   "pygments_lexer": "ipython3",
   "version": "3.9.12"
  },
  "vscode": {
   "interpreter": {
    "hash": "6365ecf5f90901f649dc96f2f0f3bc54b54824754be70acedb69b0d1b2f9b046"
   }
  }
 },
 "nbformat": 4,
 "nbformat_minor": 4
}
